{
 "cells": [
  {
   "cell_type": "code",
   "execution_count": null,
   "metadata": {},
   "outputs": [],
   "source": [
    "# 1\n",
    "class Solution:\n",
    "    # Function to sort an array of 0s, 1s, and 2s\n",
    "    def sort012(self, arr):\n",
    "        self.arr = arr\n",
    "        \n",
    "        low, mid, high = 0, 0, len(arr) - 1\n",
    "        \n",
    "        while mid <= high:\n",
    "            if arr[mid] == 0:\n",
    "                arr[low], arr[mid] = arr[mid], arr[low]\n",
    "                low += 1\n",
    "                mid += 1\n",
    "            elif arr[mid] == 1:\n",
    "                mid += 1\n",
    "            else:\n",
    "                arr[mid], arr[high] = arr[high], arr[mid]\n",
    "                high -= 1"
   ]
  },
  {
   "cell_type": "code",
   "execution_count": null,
   "metadata": {},
   "outputs": [],
   "source": [
    "#2\n",
    "class Solution:\n",
    "    def binarysearch(self, arr, l, r, x):\n",
    "        # Code Here\n",
    "        self.arr = arr\n",
    "        self.l = l\n",
    "        self.r = r\n",
    "        self.x = x\n",
    "        \n",
    "        if r >= l:\n",
    "            mid = l + (r - l) // 2\n",
    "            \n",
    "            if arr[mid] == x:\n",
    "                return mid\n",
    "            \n",
    "            elif arr[mid] == x:\n",
    "                return binarysearch(arr,l, mid - 1, x)\n",
    "                \n",
    "            else:\n",
    "                return binarysearch(arr, mis + 1, r, x)\n",
    "            \n",
    "        else:\n",
    "            return - 1\n",
    "        \n",
    "    arr = [2, 3, 4, 10, 40]\n",
    "    x = 10\n",
    "    \n",
    "    result = binarysearch(arr, 0, len(arr) - 1, x)\n",
    "    \n",
    "    if result != -1:\n",
    "        print(\"Element is present at index % d\" % result)\n",
    "    else:\n",
    "        print(\"Element is not present in array\")"
   ]
  }
 ],
 "metadata": {
  "language_info": {
   "name": "python"
  }
 },
 "nbformat": 4,
 "nbformat_minor": 2
}
